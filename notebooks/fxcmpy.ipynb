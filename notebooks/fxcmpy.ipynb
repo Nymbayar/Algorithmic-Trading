{
 "cells": [
  {
   "cell_type": "code",
   "execution_count": 1,
   "metadata": {},
   "outputs": [],
   "source": [
    "# import necessary libraries \n",
    "import fxcmpy as fx\n",
    "import pandas as pd\n",
    "\n",
    "import datetime\n",
    "import math\n",
    "\n",
    "pd.set_option('display.max_rows',150)"
   ]
  },
  {
   "cell_type": "code",
   "execution_count": null,
   "metadata": {},
   "outputs": [],
   "source": [
    "# Connecting fxcm server :\n",
    "try:\n",
    "    token = '470958e9a647a813359a7fa47c1e055d2e2666d2'\n",
    "    con = fx.fxcmpy(access_token  = token,log_level = 'error',server = 'real')\n",
    "    if con.is_connected() is True:\n",
    "        print(f'Successfully connected to the fxcm server')\n",
    "except ValueError:\n",
    "    print(f'Token must have a length of 40 characters. Your token\\'s length is {len(token)}')\n",
    "\n",
    "\n"
   ]
  },
  {
   "cell_type": "code",
   "execution_count": null,
   "metadata": {},
   "outputs": [],
   "source": [
    "# instruments:\n",
    "\n",
    "pairs = []\n",
    "for a in con.get_instruments():\n",
    "    if len(a.split('/'))>1:\n",
    "        pairs.append(a)\n",
    "print(pairs)\n",
    "\n",
    "\n",
    "\n",
    "\n",
    "\n"
   ]
  },
  {
   "cell_type": "code",
   "execution_count": null,
   "metadata": {},
   "outputs": [],
   "source": [
    "%%time\n",
    "a = pd.DataFrame()\n",
    "for b in pairs:\n",
    "    a[f'{b}_bid_average'] =(con.get_candles(b,period = 'H1',start = '2018/11/01', stop = '2020/06/04')['bidhigh'] + con.get_candles(b,period = 'H1',start = '2018/11/01', stop = '2020/03/30')['bidlow'])/2\n",
    "    a[f'{b}_ask_average'] = (con.get_candles(b,period = 'H1',start = '2018/11/01', stop = '2020/06/04')['askhigh'] + con.get_candles(b,period = 'H1',start = '2018/11/01', stop = '2020/03/30')['asklow'])/2\n",
    "#a[f'{a}_tickqty'] = con.get_candles(a,period = 'H1', start = '2020/01/31',stop = '2020/03/30')\n"
   ]
  },
  {
   "cell_type": "code",
   "execution_count": null,
   "metadata": {},
   "outputs": [],
   "source": [
    "# optimal_dataframe_length \n",
    "\n",
    "# minutes: m1, m5, m15 and m30,\n",
    "# hours: H1, H2, H3, H4, H6 and H8,\n",
    "# one day: D1,\n",
    "# one week: W1,\n",
    "# one month: M1\n",
    "\n",
    "period = 'm1'\n",
    "stop_date = datetime.date(2020,6,4)\n",
    "if period[0] == 'H':\n",
    "    optimal_length = stop_date - datetime.timedelta((math.floor(10000 / (24*int(period[1])))) + math.floor((10000 / (24*int(period[1])))/7)*2)\n",
    "elif period[0] == 'm':\n",
    "    optimal_length = stop_date - datetime.timedelta((math.floor(10000 / (24*60*int(period[1])))) + math.floor((10000 / (24*60*int(period[1])))/7)*2)"
   ]
  }
 ],
 "metadata": {
  "language_info": {
   "codemirror_mode": {
    "name": "ipython",
    "version": 3
   },
   "file_extension": ".py",
   "mimetype": "text/x-python",
   "name": "python",
   "nbconvert_exporter": "python",
   "pygments_lexer": "ipython3",
   "version": "3.8.2-final"
  },
  "orig_nbformat": 2,
  "kernelspec": {
   "name": "python38264bitf20a32b2840549db8bff3a4c8fffcc7a",
   "display_name": "Python 3.8.2 64-bit"
  }
 },
 "nbformat": 4,
 "nbformat_minor": 2
}